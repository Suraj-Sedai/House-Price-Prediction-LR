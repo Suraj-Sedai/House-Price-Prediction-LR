{
 "cells": [
  {
   "cell_type": "markdown",
   "id": "826074cb-6997-429c-b29c-6c5958433176",
   "metadata": {},
   "source": [
    "<h1>Creating simple dataset</h1>"
   ]
  },
  {
   "cell_type": "code",
   "execution_count": 3,
   "id": "4fc080ec-55ce-4368-a7c3-66b51812e4b3",
   "metadata": {},
   "outputs": [],
   "source": [
    "import pandas as pd\n",
    "import numpy as np\n",
    "\n",
    "# Create a sample dataset\n",
    "np.random.seed(42)\n",
    "data = {\n",
    "    \"Area (sqft)\": np.random.randint(1000, 4000, 100),\n",
    "    \"Bedrooms\": np.random.randint(1, 5, 100),\n",
    "    \"Age of House\": np.random.randint(1, 30, 100),\n",
    "    \"Price\": np.random.randint(50000, 500000, 100)\n",
    "}\n",
    "\n",
    "df = pd.DataFrame(data)\n",
    "df.to_csv(\"../data/house_prices.csv\", index=False)\n"
   ]
  }
 ],
 "metadata": {
  "kernelspec": {
   "display_name": "Python 3 (ipykernel)",
   "language": "python",
   "name": "python3"
  },
  "language_info": {
   "codemirror_mode": {
    "name": "ipython",
    "version": 3
   },
   "file_extension": ".py",
   "mimetype": "text/x-python",
   "name": "python",
   "nbconvert_exporter": "python",
   "pygments_lexer": "ipython3",
   "version": "3.11.2"
  }
 },
 "nbformat": 4,
 "nbformat_minor": 5
}
