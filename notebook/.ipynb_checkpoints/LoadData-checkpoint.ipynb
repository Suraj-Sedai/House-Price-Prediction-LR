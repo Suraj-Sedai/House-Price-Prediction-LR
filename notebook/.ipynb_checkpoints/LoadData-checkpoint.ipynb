{
 "cells": [
  {
   "cell_type": "markdown",
   "metadata": {},
   "source": [
    "<h1>Load Data Set</h1>"
   ]
  },
  {
   "cell_type": "code",
   "execution_count": 1,
   "metadata": {},
   "outputs": [
    {
     "data": {
      "text/plain": [
       "Area (sqft)     0\n",
       "Bedrooms        0\n",
       "Age of House    0\n",
       "Price           0\n",
       "dtype: int64"
      ]
     },
     "execution_count": 1,
     "metadata": {},
     "output_type": "execute_result"
    }
   ],
   "source": [
    "import pandas as pd\n",
    "import numpy as np\n",
    "\n",
    "\n",
    "df = pd.read_csv(\"../data/house_prices.csv\")\n",
    "#\n",
    "#checking for the null value\n",
    "# df.isnull().sum()\n",
    "\n",
    "#get the discription \n",
    "# df.describe()"
   ]
  },
  {
   "cell_type": "markdown",
   "metadata": {},
   "source": [
    "<h3>Data Processing</h3>\n",
    "<ul>\n",
    "    <li>Handel missing data</li>\n",
    "    <li>convert categorical data to Numerical</li>\n",
    "    <li>Feature selection</li>\n",
    "</ul>"
   ]
  },
  {
   "cell_type": "code",
   "execution_count": 15,
   "metadata": {},
   "outputs": [],
   "source": [
    "df = df.dropna()#drop all the missing values\n",
    "\n",
    "#features to train the model\n",
    "X = df[['Area (sqft)', 'Bedrooms', 'Age of House']]\n",
    "y = df['Price']\n",
    "\n"
   ]
  }
 ],
 "metadata": {
  "kernelspec": {
   "display_name": "Python 3 (ipykernel)",
   "language": "python",
   "name": "python3"
  },
  "language_info": {
   "codemirror_mode": {
    "name": "ipython",
    "version": 3
   },
   "file_extension": ".py",
   "mimetype": "text/x-python",
   "name": "python",
   "nbconvert_exporter": "python",
   "pygments_lexer": "ipython3",
   "version": "3.11.2"
  }
 },
 "nbformat": 4,
 "nbformat_minor": 4
}
